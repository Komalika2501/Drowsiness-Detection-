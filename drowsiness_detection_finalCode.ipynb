{
 "cells": [
  {
   "cell_type": "code",
   "execution_count": 1,
   "id": "958f2b68",
   "metadata": {},
   "outputs": [],
   "source": [
    "from scipy.spatial import distance as dist"
   ]
  },
  {
   "cell_type": "code",
   "execution_count": 2,
   "id": "76d75b97",
   "metadata": {},
   "outputs": [
    {
     "name": "stdout",
     "output_type": "stream",
     "text": [
      "Requirement already satisfied: imutils in c:\\users\\hp\\anaconda3\\lib\\site-packages (0.5.4)\n",
      "Note: you may need to restart the kernel to use updated packages.\n"
     ]
    }
   ],
   "source": [
    "pip install --upgrade imutils"
   ]
  },
  {
   "cell_type": "code",
   "execution_count": 3,
   "id": "a52bb30a",
   "metadata": {},
   "outputs": [],
   "source": [
    "from imutils.video import VideoStream"
   ]
  },
  {
   "cell_type": "code",
   "execution_count": 4,
   "id": "99937592",
   "metadata": {},
   "outputs": [],
   "source": [
    "from imutils import face_utils"
   ]
  },
  {
   "cell_type": "code",
   "execution_count": 5,
   "id": "8c57eb27",
   "metadata": {},
   "outputs": [],
   "source": [
    "import numpy as np"
   ]
  },
  {
   "cell_type": "code",
   "execution_count": 6,
   "id": "b4ef2f47",
   "metadata": {},
   "outputs": [],
   "source": [
    "import imutils"
   ]
  },
  {
   "cell_type": "code",
   "execution_count": 7,
   "id": "6044d354",
   "metadata": {
    "scrolled": true
   },
   "outputs": [
    {
     "name": "stdout",
     "output_type": "stream",
     "text": [
      "Requirement already satisfied: cmake in c:\\users\\hp\\anaconda3\\lib\\site-packages (3.22.5)\n",
      "Note: you may need to restart the kernel to use updated packages.\n"
     ]
    }
   ],
   "source": [
    "pip install cmake"
   ]
  },
  {
   "cell_type": "code",
   "execution_count": 8,
   "id": "d0c3f88d",
   "metadata": {},
   "outputs": [
    {
     "name": "stdout",
     "output_type": "stream",
     "text": [
      "Requirement already satisfied: scipy in c:\\users\\hp\\anaconda3\\lib\\site-packages (1.6.2)\n",
      "Requirement already satisfied: numpy<1.23.0,>=1.16.5 in c:\\users\\hp\\anaconda3\\lib\\site-packages (from scipy) (1.20.1)\n",
      "Note: you may need to restart the kernel to use updated packages.\n"
     ]
    }
   ],
   "source": [
    "pip install scipy"
   ]
  },
  {
   "cell_type": "code",
   "execution_count": 9,
   "id": "c632e901",
   "metadata": {},
   "outputs": [
    {
     "name": "stdout",
     "output_type": "stream",
     "text": [
      "Requirement already satisfied: scikit-image in c:\\users\\hp\\anaconda3\\lib\\site-packages (0.18.1)\n",
      "Requirement already satisfied: numpy>=1.16.5 in c:\\users\\hp\\anaconda3\\lib\\site-packages (from scikit-image) (1.20.1)\n",
      "Requirement already satisfied: scipy>=1.0.1 in c:\\users\\hp\\anaconda3\\lib\\site-packages (from scikit-image) (1.6.2)\n",
      "Requirement already satisfied: matplotlib!=3.0.0,>=2.0.0 in c:\\users\\hp\\anaconda3\\lib\\site-packages (from scikit-image) (3.3.4)\n",
      "Requirement already satisfied: networkx>=2.0 in c:\\users\\hp\\anaconda3\\lib\\site-packages (from scikit-image) (2.5)\n",
      "Requirement already satisfied: pillow!=7.1.0,!=7.1.1,>=4.3.0 in c:\\users\\hp\\anaconda3\\lib\\site-packages (from scikit-image) (8.2.0)\n",
      "Requirement already satisfied: imageio>=2.3.0 in c:\\users\\hp\\anaconda3\\lib\\site-packages (from scikit-image) (2.9.0)\n",
      "Requirement already satisfied: tifffile>=2019.7.26 in c:\\users\\hp\\anaconda3\\lib\\site-packages (from scikit-image) (2021.4.8)\n",
      "Requirement already satisfied: PyWavelets>=1.1.1 in c:\\users\\hp\\anaconda3\\lib\\site-packages (from scikit-image) (1.1.1)\n",
      "Requirement already satisfied: cycler>=0.10 in c:\\users\\hp\\anaconda3\\lib\\site-packages (from matplotlib!=3.0.0,>=2.0.0->scikit-image) (0.10.0)\n",
      "Requirement already satisfied: python-dateutil>=2.1 in c:\\users\\hp\\anaconda3\\lib\\site-packages (from matplotlib!=3.0.0,>=2.0.0->scikit-image) (2.8.1)\n",
      "Requirement already satisfied: kiwisolver>=1.0.1 in c:\\users\\hp\\anaconda3\\lib\\site-packages (from matplotlib!=3.0.0,>=2.0.0->scikit-image) (1.3.1)\n",
      "Requirement already satisfied: pyparsing!=2.0.4,!=2.1.2,!=2.1.6,>=2.0.3 in c:\\users\\hp\\anaconda3\\lib\\site-packages (from matplotlib!=3.0.0,>=2.0.0->scikit-image) (2.4.7)\n",
      "Requirement already satisfied: six in c:\\users\\hp\\anaconda3\\lib\\site-packages (from cycler>=0.10->matplotlib!=3.0.0,>=2.0.0->scikit-image) (1.15.0)\n",
      "Requirement already satisfied: decorator>=4.3.0 in c:\\users\\hp\\anaconda3\\lib\\site-packages (from networkx>=2.0->scikit-image) (5.0.6)\n",
      "Note: you may need to restart the kernel to use updated packages.\n"
     ]
    }
   ],
   "source": [
    "pip install scikit-image"
   ]
  },
  {
   "cell_type": "code",
   "execution_count": 10,
   "id": "09987c14",
   "metadata": {},
   "outputs": [],
   "source": [
    "import dlib"
   ]
  },
  {
   "cell_type": "code",
   "execution_count": 11,
   "id": "573c65b1",
   "metadata": {},
   "outputs": [],
   "source": [
    "# then defining the eye aspect ratio\n",
    "# where we're going to find the distance ratio of vertical & horizontal eye landmark\n",
    "def eye_asp_ratio(eye):\n",
    "    # finding the euclidean distance between two points of vertical eye landmark\n",
    "    point1 = dist.euclidean(eye[1], eye[5])\n",
    "    point2 = dist.euclidean(eye[2], eye[4])\n",
    "    \n",
    "    # finding euclidean distance of horizontal eye\n",
    "    point3 = dist.euclidean(eye[0], eye[3])\n",
    "    \n",
    "    # aspect ratio of eye\n",
    "    ratio = (point1+point2)/(2.0*point3)# here we are taking average of both vertical length\n",
    "    # and the dividing it with horizontal length to get ratio\n",
    "    return ratio\n",
    "\n",
    "# when we get constant eye aspect ratio- open eye \n",
    "# & when decreases to zero suddenly - blink indicated"
   ]
  },
  {
   "cell_type": "code",
   "execution_count": 12,
   "id": "5c8dc189",
   "metadata": {},
   "outputs": [],
   "source": [
    "# defining two constants\n",
    "# specifying an experimented value(0.3) in eye_ar_thresh_value\n",
    "# if eye_asp_ratio falls below then the\n",
    "# number of frames counted when driver closes his/her eyes\n",
    "eye_ar_thresh_value = 0.30"
   ]
  },
  {
   "cell_type": "code",
   "execution_count": 13,
   "id": "751945a8",
   "metadata": {},
   "outputs": [],
   "source": [
    "# number of frames counted when driver closed their eyes\n",
    "# and if this exceeds this constant value- ALARM WILL SET ON.\n",
    "eye_ar_consec_frames = 20"
   ]
  },
  {
   "cell_type": "code",
   "execution_count": 14,
   "id": "b3bdd061",
   "metadata": {},
   "outputs": [],
   "source": [
    "# defining counter to count number of frames generated when\n",
    "# eye_asp_ratio lies below threshold\n",
    "counter = 0"
   ]
  },
  {
   "cell_type": "code",
   "execution_count": 15,
   "id": "6a7a3755",
   "metadata": {},
   "outputs": [],
   "source": [
    "# now creating facial landmark using dlib's face detector pre trained model \n",
    "face_detector = dlib.get_frontal_face_detector()\n",
    "face_predictor = dlib.shape_predictor(\"shape_predictor_68_face_landmarks.dat\")\n",
    "# the facial landmark produced by dlib's functions are \n",
    "# desired ordered list which extract important features\n",
    "# from face.\n",
    "# (http://dlib.net/files/shape_predictor_68_face_landmarks.dat.bz2)\n",
    "# above file is trained model for dlib"
   ]
  },
  {
   "cell_type": "code",
   "execution_count": 16,
   "id": "0bfae795",
   "metadata": {},
   "outputs": [],
   "source": [
    "# by using these indexes, we can easily extract the important\n",
    "# features of eye region\n",
    "# extracting the eye feature from the set of facial landmark \n",
    "(Startl, Endl) = face_utils.FACIAL_LANDMARKS_IDXS[\"left_eye\"]\n",
    "(Startr, Endr) = face_utils.FACIAL_LANDMARKS_IDXS[\"right_eye\"]"
   ]
  },
  {
   "cell_type": "code",
   "execution_count": 17,
   "id": "3e4d20f9",
   "metadata": {},
   "outputs": [],
   "source": [
    "import cv2 as cvlib"
   ]
  },
  {
   "cell_type": "code",
   "execution_count": 18,
   "id": "33e9b181",
   "metadata": {},
   "outputs": [],
   "source": [
    "def put_alarm_text(f_cap):\n",
    "    cvlib.putText(f_cap, \"****************HEY! AWAKE****************\", (10, 30),\n",
    "                    cvlib.FONT_HERSHEY_SIMPLEX, 0.7, (0, 0, 255), 2)\n",
    "    cvlib.putText(f_cap, \"****************HEY! AWAKE****************\", (10,325),\n",
    "                    cvlib.FONT_HERSHEY_SIMPLEX, 0.7, (0, 0, 255), 2)\n",
    "    "
   ]
  },
  {
   "cell_type": "code",
   "execution_count": null,
   "id": "02b7e887",
   "metadata": {},
   "outputs": [],
   "source": [
    "cap=cvlib.VideoCapture(0)\n",
    "flag_val=0\n",
    "while True:\n",
    "    ret, frame_cap =cap.read()\n",
    "    frame_cap = imutils.resize(frame_cap, width=450)\n",
    "    gray_cap = cvlib.cvtColor(frame_cap, cvlib.COLOR_BGR2GRAY)\n",
    "    captures = face_detector(gray_cap, 0)\n",
    "    for capture in captures:\n",
    "        shape_val = face_predictor(gray_cap, capture)\n",
    "        shape_val = face_utils.shape_to_np(shape_val)#converting to NumPy Array\n",
    "        lEye = shape_val[Startl:Endl]\n",
    "        rEye = shape_val[Startr:Endr]\n",
    "        lEAR = eye_asp_ratio(lEye)\n",
    "        rEAR = eye_asp_ratio(rEye)\n",
    "        ear = (lEAR + rEAR) / 2.0\n",
    "        lEyeHull = cvlib.convexHull(lEye)\n",
    "        rEyeHull = cvlib.convexHull(rEye)\n",
    "        cvlib.drawContours(frame_cap, [lEyeHull], -1, (0, 255, 0), 1)\n",
    "        cvlib.drawContours(frame_cap, [rEyeHull], -1, (0, 255, 0), 1)\n",
    "        if ear < eye_ar_thresh_value:\n",
    "            flag_val += 1\n",
    "            if flag_val >= eye_ar_consec_frames:\n",
    "                put_alarm_text(frame_cap)\n",
    "        else:\n",
    "            flag_val = 0\n",
    "    cvlib.imshow(\"Frame\", frame_cap)\n",
    "    key = cvlib.waitKey(1) & 0xFF\n",
    "    if key == ord(\"q\"):\n",
    "        cvlib.destroyAllWindows()\n",
    "        cap.release()\n",
    "        break"
   ]
  },
  {
   "cell_type": "code",
   "execution_count": null,
   "id": "8f91e4de",
   "metadata": {},
   "outputs": [],
   "source": []
  }
 ],
 "metadata": {
  "kernelspec": {
   "display_name": "Python 3",
   "language": "python",
   "name": "python3"
  },
  "language_info": {
   "codemirror_mode": {
    "name": "ipython",
    "version": 3
   },
   "file_extension": ".py",
   "mimetype": "text/x-python",
   "name": "python",
   "nbconvert_exporter": "python",
   "pygments_lexer": "ipython3",
   "version": "3.8.8"
  }
 },
 "nbformat": 4,
 "nbformat_minor": 5
}
